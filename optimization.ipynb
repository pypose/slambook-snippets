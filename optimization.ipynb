{
 "cells": [
  {
   "cell_type": "code",
   "execution_count": 1,
   "id": "b9e41219",
   "metadata": {},
   "outputs": [],
   "source": [
    "from torch import nn\n",
    "import torch, pypose as pp\n",
    "from pypose.optim import LM\n",
    "from pypose.optim.strategy import Constant\n",
    "from pypose.optim.scheduler import StopOnPlateau"
   ]
  },
  {
   "cell_type": "markdown",
   "id": "0e3e73f9",
   "metadata": {},
   "source": [
    "### Defines a module to compute the Non-linear Least Square (NLS)."
   ]
  },
  {
   "cell_type": "code",
   "execution_count": 2,
   "id": "cf7283df",
   "metadata": {},
   "outputs": [],
   "source": [
    "class InvNet(nn.Module):\n",
    "    def __init__(self, *dim):\n",
    "        super().__init__()\n",
    "        init = pp.randn_SE3(*dim)\n",
    "        self.pose = pp.Parameter(init)\n",
    "\n",
    "    def forward(self, input):\n",
    "        error = (self.pose @ input).Log()\n",
    "        return error.tensor() # Returns Tensor as Error"
   ]
  },
  {
   "cell_type": "markdown",
   "id": "8770fa39",
   "metadata": {},
   "source": [
    "### Preparing data and model"
   ]
  },
  {
   "cell_type": "code",
   "execution_count": 3,
   "id": "8f8a912c",
   "metadata": {},
   "outputs": [],
   "source": [
    "device = torch.device(\"cpu\") # can also be cuda\n",
    "input = pp.randn_SE3(2, 2, device=device)\n",
    "invnet = InvNet(2, 2).to(device)"
   ]
  },
  {
   "cell_type": "markdown",
   "id": "e1710cc9",
   "metadata": {},
   "source": [
    "### Preparing the Levenberg–Marquardt (LM) optimizer and scheduler"
   ]
  },
  {
   "cell_type": "code",
   "execution_count": 4,
   "id": "c68fdb4a",
   "metadata": {},
   "outputs": [],
   "source": [
    "strategy = Constant(damping=1e-4)\n",
    "optimizer = LM(invnet, strategy=strategy)\n",
    "scheduler = StopOnPlateau(optimizer, steps=10, patience=3, decreasing=1e-3, verbose=True)"
   ]
  },
  {
   "cell_type": "markdown",
   "id": "cd916136",
   "metadata": {},
   "source": [
    "### Optimization\n",
    "There are two options for optimization.\n",
    "\n",
    "The first one is full optimization, suitable for application.\n",
    "\n",
    "The second one is step optimization, suitable for visulizing intermedium output.\n",
    "\n",
    "Users only need to select one of them in application."
   ]
  },
  {
   "cell_type": "code",
   "execution_count": 5,
   "id": "b1b8ae08",
   "metadata": {},
   "outputs": [
    {
     "name": "stdout",
     "output_type": "stream",
     "text": [
      "StopOnPlateau on step 0 Loss 3.520053e+01 --> Loss 7.381304e-07 (reduction/loss: 1.0000e+00).\n",
      "StopOnPlateau on step 1 Loss 7.381304e-07 --> Loss 5.281742e-14 (reduction/loss: 1.0000e+00).\n",
      "StopOnPlateau on step 2 Loss 5.281742e-14 --> Loss 2.589335e-14 (reduction/loss: 5.0976e-01).\n",
      "StopOnPlateau on step 3 Loss 2.589335e-14 --> Loss 2.359241e-16 (reduction/loss: 9.9089e-01).\n",
      "StopOnPlateau: Maximum patience steps reached, Quiting..\n"
     ]
    }
   ],
   "source": [
    "# 1st option, full optimization\n",
    "scheduler.optimize(input=input)"
   ]
  },
  {
   "cell_type": "code",
   "execution_count": null,
   "id": "6e97e384",
   "metadata": {},
   "outputs": [],
   "source": [
    "# 2nd option, step optimization\n",
    "while scheduler.continual():\n",
    "    loss = optimizer.step(input)\n",
    "    scheduler.step(loss)"
   ]
  }
 ],
 "metadata": {
  "kernelspec": {
   "display_name": "Python 3 (ipykernel)",
   "language": "python",
   "name": "python3"
  },
  "language_info": {
   "codemirror_mode": {
    "name": "ipython",
    "version": 3
   },
   "file_extension": ".py",
   "mimetype": "text/x-python",
   "name": "python",
   "nbconvert_exporter": "python",
   "pygments_lexer": "ipython3",
   "version": "3.9.15"
  }
 },
 "nbformat": 4,
 "nbformat_minor": 5
}
