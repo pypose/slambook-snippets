{
 "cells": [
  {
   "cell_type": "code",
   "execution_count": 1,
   "id": "02044ba7",
   "metadata": {},
   "outputs": [],
   "source": [
    "import torch, pypose as pp"
   ]
  },
  {
   "cell_type": "markdown",
   "id": "d9d851c3",
   "metadata": {},
   "source": [
    "### Create a random so(3) LieTensor"
   ]
  },
  {
   "cell_type": "code",
   "execution_count": 2,
   "id": "a848e1d6",
   "metadata": {},
   "outputs": [
    {
     "name": "stdout",
     "output_type": "stream",
     "text": [
      "so3Type LieTensor:\n",
      "LieTensor([[ 0.2145,  0.7053,  0.5497],\n",
      "           [ 0.0113,  0.0041, -0.0451]], requires_grad=True)\n"
     ]
    }
   ],
   "source": [
    "r = pp.randn_so3(2, requires_grad=True)\n",
    "print(r)"
   ]
  },
  {
   "cell_type": "markdown",
   "id": "779ccbf4",
   "metadata": {},
   "source": [
    "### Exponential Mapping of LieTensor "
   ]
  },
  {
   "cell_type": "code",
   "execution_count": 3,
   "id": "a53d3c4b",
   "metadata": {},
   "outputs": [
    {
     "name": "stdout",
     "output_type": "stream",
     "text": [
      "SO3Type LieTensor:\n",
      "LieTensor([[ 0.1035,  0.3404,  0.2653,  0.8961],\n",
      "           [ 0.0056,  0.0020, -0.0226,  0.9997]], grad_fn=<AliasBackward0>)\n"
     ]
    }
   ],
   "source": [
    "R = r.Exp() # Equivalent to: R = pp.Exp(r)\n",
    "print(R)"
   ]
  },
  {
   "cell_type": "markdown",
   "id": "e7d4cd90",
   "metadata": {},
   "source": [
    "### Rotate a random point"
   ]
  },
  {
   "cell_type": "code",
   "execution_count": 4,
   "id": "ed3f85f2",
   "metadata": {},
   "outputs": [
    {
     "name": "stdout",
     "output_type": "stream",
     "text": [
      "tensor([[ 0.0509,  0.3952, -0.0624],\n",
      "        [ 0.2950,  0.2748, -0.0127]], grad_fn=<ViewBackward0>)\n"
     ]
    }
   ],
   "source": [
    "p = R @ torch.randn(3) # Rotate random point\n",
    "print(p)"
   ]
  },
  {
   "cell_type": "markdown",
   "id": "62f6abda",
   "metadata": {},
   "source": [
    "### Compute a cost and its gradient"
   ]
  },
  {
   "cell_type": "code",
   "execution_count": 5,
   "id": "aa125bb7",
   "metadata": {},
   "outputs": [
    {
     "name": "stdout",
     "output_type": "stream",
     "text": [
      "tensor([[ 0.4740, -0.2688, -0.1512],\n",
      "        [ 0.2943, -0.3010,  0.0225]])\n"
     ]
    }
   ],
   "source": [
    "p.sum().backward()     # Compute gradient\n",
    "print(r.grad)          # Print gradient"
   ]
  }
 ],
 "metadata": {
  "kernelspec": {
   "display_name": "Python 3 (ipykernel)",
   "language": "python",
   "name": "python3"
  },
  "language_info": {
   "codemirror_mode": {
    "name": "ipython",
    "version": 3
   },
   "file_extension": ".py",
   "mimetype": "text/x-python",
   "name": "python",
   "nbconvert_exporter": "python",
   "pygments_lexer": "ipython3",
   "version": "3.9.15"
  }
 },
 "nbformat": 4,
 "nbformat_minor": 5
}
