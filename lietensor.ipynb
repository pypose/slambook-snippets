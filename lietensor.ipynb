{
 "cells": [
  {
   "cell_type": "markdown",
   "id": "1d3583a0",
   "metadata": {},
   "source": [
    "## Example of LieTensor\n",
    "\n",
    "### This code snippets provide the examples in Section 5.4.1 of the SLAM Handbook.\n",
    "\n",
    "- Given a batched random $\\frak{so}(3)$ LieTensor $r$, we can compute the exponential map of $r$ by calling the `Exp` method. This results in a $SO(3)$ LieTensor, which can be used for calculating rotated random points and therefore the gradient of the summed points coordinates w.r.t. the $\\frak{so}(3)$ LieTensor $r$."
   ]
  },
  {
   "cell_type": "code",
   "execution_count": 1,
   "id": "6c55d91a",
   "metadata": {},
   "outputs": [],
   "source": [
    "import torch, pypose as pp"
   ]
  },
  {
   "cell_type": "markdown",
   "id": "d9d851c3",
   "metadata": {},
   "source": [
    "### Create a random so(3) LieTensor"
   ]
  },
  {
   "cell_type": "code",
   "execution_count": 2,
   "id": "a848e1d6",
   "metadata": {},
   "outputs": [
    {
     "name": "stdout",
     "output_type": "stream",
     "text": [
      "so3Type LieTensor:\n",
      "LieTensor([[-0.0779, -0.1394, -0.3072],\n",
      "           [-0.0007, -0.0339,  0.0535]], requires_grad=True)\n"
     ]
    }
   ],
   "source": [
    "r = pp.randn_so3(2, requires_grad=True)\n",
    "print(r)"
   ]
  },
  {
   "cell_type": "markdown",
   "id": "779ccbf4",
   "metadata": {},
   "source": [
    "### Exponential Mapping of LieTensor "
   ]
  },
  {
   "cell_type": "code",
   "execution_count": 3,
   "id": "a53d3c4b",
   "metadata": {},
   "outputs": [
    {
     "name": "stdout",
     "output_type": "stream",
     "text": [
      "SO3Type LieTensor:\n",
      "LieTensor([[-3.8760e-02, -6.9342e-02, -1.5282e-01,  9.8506e-01],\n",
      "           [-3.6666e-04, -1.6934e-02,  2.6752e-02,  9.9950e-01]],\n",
      "          grad_fn=<AliasBackward0>)\n"
     ]
    }
   ],
   "source": [
    "R = r.Exp() # Equivalent to: R = pp.Exp(r)\n",
    "print(R)"
   ]
  },
  {
   "cell_type": "markdown",
   "id": "e7d4cd90",
   "metadata": {},
   "source": [
    "### Rotate a random point"
   ]
  },
  {
   "cell_type": "code",
   "execution_count": 4,
   "id": "ed3f85f2",
   "metadata": {},
   "outputs": [
    {
     "name": "stdout",
     "output_type": "stream",
     "text": [
      "tensor([[-0.4203, -0.0089, -1.0731],\n",
      "        [-0.5139, -0.1074, -1.0260]], grad_fn=<ViewBackward0>)\n"
     ]
    }
   ],
   "source": [
    "p = R @ torch.randn(3) # Rotate random point\n",
    "print(p)"
   ]
  },
  {
   "cell_type": "markdown",
   "id": "62f6abda",
   "metadata": {},
   "source": [
    "### Compute a cost and its gradient"
   ]
  },
  {
   "cell_type": "code",
   "execution_count": 5,
   "id": "aa125bb7",
   "metadata": {},
   "outputs": [
    {
     "name": "stdout",
     "output_type": "stream",
     "text": [
      "tensor([[ 1.1122, -0.4652, -0.5087],\n",
      "        [ 0.8974, -0.5361, -0.4220]])\n"
     ]
    }
   ],
   "source": [
    "p.sum().backward()     # Compute gradient\n",
    "print(r.grad)          # Print gradient"
   ]
  }
 ],
 "metadata": {
  "kernelspec": {
   "display_name": "Python 3 (ipykernel)",
   "language": "python",
   "name": "python3"
  },
  "language_info": {
   "codemirror_mode": {
    "name": "ipython",
    "version": 3
   },
   "file_extension": ".py",
   "mimetype": "text/x-python",
   "name": "python",
   "nbconvert_exporter": "python",
   "pygments_lexer": "ipython3",
   "version": "3.9.15"
  }
 },
 "nbformat": 4,
 "nbformat_minor": 5
}
